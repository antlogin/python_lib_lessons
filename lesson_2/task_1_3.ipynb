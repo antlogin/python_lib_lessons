{
 "cells": [
  {
   "cell_type": "code",
   "execution_count": 23,
   "id": "1f79730e",
   "metadata": {},
   "outputs": [],
   "source": [
    "import pandas as pd\n",
    "df_authors = pd.DataFrame({'author_id':[1, 2, 3],\n",
    "                           'author_name':['Тургенев', 'Чехов', 'Островский']}, columns=['author_id', 'author_name'])\n"
   ]
  }
 ],
 "metadata": {
  "kernelspec": {
   "display_name": "Python 3",
   "language": "python",
   "name": "python3"
  },
  "language_info": {
   "codemirror_mode": {
    "name": "ipython",
    "version": 3
   },
   "file_extension": ".py",
   "mimetype": "text/x-python",
   "name": "python",
   "nbconvert_exporter": "python",
   "pygments_lexer": "ipython3",
   "version": "3.8.8"
  }
 },
 "nbformat": 4,
 "nbformat_minor": 5
}

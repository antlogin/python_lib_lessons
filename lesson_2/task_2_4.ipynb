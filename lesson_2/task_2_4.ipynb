{
 "cells": [
  {
   "cell_type": "code",
   "execution_count": 13,
   "id": "1f79730e",
   "metadata": {},
   "outputs": [],
   "source": [
    "import pandas as pd\n",
    "df_authors = pd.DataFrame({'author_id':[1, 2, 3],\n",
    "                           'author_name':['Тургенев', 'Чехов', 'Островский']}, columns=['author_id', 'author_name'])\n",
    "df_books = pd.DataFrame({'author_id':[1, 1, 1, 2, 2, 3, 3],\n",
    "                        'book_title':['Отцы и дети', 'Рудин', 'Дворянское гнездо', 'Толстый и тонкий', 'Дама с собачкой', 'Гроза', 'Таланты и поклонники'],\n",
    "                        'price':[450, 300, 350, 500, 450, 370, 290]},\n",
    "                       columns=['author_id', 'book_title', 'price'])\n",
    "df_authors_price = pd.merge(df_authors, df_books, on='author_id', how='inner')\n",
    "df_authors_stat = pd.DataFrame({'author_name':['Тургенев', 'Чехов', 'Островский'],\n",
    "                        'min_price':[df_authors_price.loc[df_authors_price['author_id'] == 1, 'price'].min(),\n",
    "                                     df_authors_price.loc[df_authors_price['author_id'] == 2, 'price'].min(),\n",
    "                                     df_authors_price.loc[df_authors_price['author_id'] == 3, 'price'].min(),],\n",
    "                        'max_price':[df_authors_price.loc[df_authors_price['author_id'] == 1, 'price'].max(),\n",
    "                                     df_authors_price.loc[df_authors_price['author_id'] == 2, 'price'].max(),\n",
    "                                     df_authors_price.loc[df_authors_price['author_id'] == 3, 'price'].max()],\n",
    "                        'mean_price':[df_authors_price.loc[df_authors_price['author_id'] == 1, 'price'].mean(),\n",
    "                                      df_authors_price.loc[df_authors_price['author_id'] == 2, 'price'].mean(),\n",
    "                                      df_authors_price.loc[df_authors_price['author_id'] == 3, 'price'].mean()]},\n",
    "                       columns=['author_name', 'min_price', 'max_price', 'mean_price'])\n"
   ]
  },
  {
   "cell_type": "code",
   "execution_count": 14,
   "id": "023f1fc4",
   "metadata": {},
   "outputs": [
    {
     "data": {
      "text/html": [
       "<div>\n",
       "<style scoped>\n",
       "    .dataframe tbody tr th:only-of-type {\n",
       "        vertical-align: middle;\n",
       "    }\n",
       "\n",
       "    .dataframe tbody tr th {\n",
       "        vertical-align: top;\n",
       "    }\n",
       "\n",
       "    .dataframe thead th {\n",
       "        text-align: right;\n",
       "    }\n",
       "</style>\n",
       "<table border=\"1\" class=\"dataframe\">\n",
       "  <thead>\n",
       "    <tr style=\"text-align: right;\">\n",
       "      <th></th>\n",
       "      <th>author_name</th>\n",
       "      <th>min_price</th>\n",
       "      <th>max_price</th>\n",
       "      <th>mean_price</th>\n",
       "    </tr>\n",
       "  </thead>\n",
       "  <tbody>\n",
       "    <tr>\n",
       "      <th>0</th>\n",
       "      <td>Тургенев</td>\n",
       "      <td>300</td>\n",
       "      <td>450</td>\n",
       "      <td>366.666667</td>\n",
       "    </tr>\n",
       "    <tr>\n",
       "      <th>1</th>\n",
       "      <td>Чехов</td>\n",
       "      <td>450</td>\n",
       "      <td>500</td>\n",
       "      <td>475.000000</td>\n",
       "    </tr>\n",
       "    <tr>\n",
       "      <th>2</th>\n",
       "      <td>Островский</td>\n",
       "      <td>290</td>\n",
       "      <td>370</td>\n",
       "      <td>330.000000</td>\n",
       "    </tr>\n",
       "  </tbody>\n",
       "</table>\n",
       "</div>"
      ],
      "text/plain": [
       "  author_name  min_price  max_price  mean_price\n",
       "0    Тургенев        300        450  366.666667\n",
       "1       Чехов        450        500  475.000000\n",
       "2  Островский        290        370  330.000000"
      ]
     },
     "execution_count": 14,
     "metadata": {},
     "output_type": "execute_result"
    }
   ],
   "source": [
    "df_authors_stat"
   ]
  }
 ],
 "metadata": {
  "kernelspec": {
   "display_name": "Python 3",
   "language": "python",
   "name": "python3"
  },
  "language_info": {
   "codemirror_mode": {
    "name": "ipython",
    "version": 3
   },
   "file_extension": ".py",
   "mimetype": "text/x-python",
   "name": "python",
   "nbconvert_exporter": "python",
   "pygments_lexer": "ipython3",
   "version": "3.8.8"
  }
 },
 "nbformat": 4,
 "nbformat_minor": 5
}
